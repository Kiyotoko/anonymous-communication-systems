{
 "cells": [
  {
   "attachments": {},
   "cell_type": "markdown",
   "metadata": {},
   "source": [
    "# Mixnet\n",
    "\n",
    "![Mixnet Graph](../graph/mixnet.svg)\n"
   ]
  },
  {
   "attachments": {},
   "cell_type": "markdown",
   "metadata": {},
   "source": [
    "## How it works\n",
    "\n",
    "Nym mixnet uses the following techniques to defeat pervasive online network surveillance:\n",
    "\n",
    "1. make all traffic look the same (so adversaries can’t follow individual traffic)\n",
    "2. re-order traffic (so that adversaries can’t simply count what goes in and what comes out to statistically de-anonymise users)\n",
    "3. generate fake cover traffic (so adversaries can’t know when anonymity was important)\n"
   ]
  },
  {
   "attachments": {},
   "cell_type": "markdown",
   "metadata": {},
   "source": [
    "\n",
    "```mermaid\n",
    "graph LR\n",
    "Alice --> 0[Mix<sub>1</sub>] -.-> 1[Mix<sub>2</sub>] -.-> 2[Mix<sub>3</sub>]\n",
    "3[Mix<sub>4</sub>] -.-> 4[Mix<sub>5</sub>] -.-> 5[Mix<sub>6</sub>] --> Bob\n",
    "0 -.-> 4\n",
    "1 -.-> 5\n",
    "```"
   ]
  },
  {
   "attachments": {},
   "cell_type": "markdown",
   "metadata": {},
   "source": [
    "## Sources\n",
    "\n",
    "- https://nymtech.net/\n",
    "- https://constructiveproof.com/posts/2020-02-17-a-simple-introduction-to-mixnets/"
   ]
  }
 ],
 "metadata": {
  "language_info": {
   "name": "python"
  },
  "orig_nbformat": 4
 },
 "nbformat": 4,
 "nbformat_minor": 2
}
